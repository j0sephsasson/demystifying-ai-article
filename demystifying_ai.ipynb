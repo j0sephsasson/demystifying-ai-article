{
  "nbformat": 4,
  "nbformat_minor": 0,
  "metadata": {
    "colab": {
      "name": "demystifying_ai.ipynb",
      "provenance": []
    },
    "kernelspec": {
      "name": "python3",
      "display_name": "Python 3"
    },
    "language_info": {
      "name": "python"
    }
  },
  "cells": [
    {
      "cell_type": "code",
      "metadata": {
        "id": "N2LvNXbxv1_h"
      },
      "source": [
        "import seaborn as sns\n",
        "import pandas as pd\n",
        "import numpy as np\n",
        "from sklearn.metrics import accuracy_score\n",
        "import graphviz\n",
        "from IPython.display import Image\n",
        "from sklearn.tree import export_graphviz, DecisionTreeClassifier\n",
        "from sklearn.model_selection import train_test_split"
      ],
      "execution_count": null,
      "outputs": []
    },
    {
      "cell_type": "markdown",
      "metadata": {
        "id": "3H8EqiMANxBE"
      },
      "source": [
        "**MACHINE LEARNING MODEL**"
      ]
    },
    {
      "cell_type": "code",
      "metadata": {
        "colab": {
          "base_uri": "https://localhost:8080/",
          "height": 202
        },
        "id": "ZnHrUSH2xaxL",
        "outputId": "75d6d22c-1f9a-4333-fb26-a7d775d60ddc"
      },
      "source": [
        "df = sns.load_dataset('iris')\n",
        "df.head()"
      ],
      "execution_count": null,
      "outputs": [
        {
          "output_type": "execute_result",
          "data": {
            "text/html": [
              "<div>\n",
              "<style scoped>\n",
              "    .dataframe tbody tr th:only-of-type {\n",
              "        vertical-align: middle;\n",
              "    }\n",
              "\n",
              "    .dataframe tbody tr th {\n",
              "        vertical-align: top;\n",
              "    }\n",
              "\n",
              "    .dataframe thead th {\n",
              "        text-align: right;\n",
              "    }\n",
              "</style>\n",
              "<table border=\"1\" class=\"dataframe\">\n",
              "  <thead>\n",
              "    <tr style=\"text-align: right;\">\n",
              "      <th></th>\n",
              "      <th>sepal_length</th>\n",
              "      <th>sepal_width</th>\n",
              "      <th>petal_length</th>\n",
              "      <th>petal_width</th>\n",
              "      <th>species</th>\n",
              "    </tr>\n",
              "  </thead>\n",
              "  <tbody>\n",
              "    <tr>\n",
              "      <th>0</th>\n",
              "      <td>5.1</td>\n",
              "      <td>3.5</td>\n",
              "      <td>1.4</td>\n",
              "      <td>0.2</td>\n",
              "      <td>setosa</td>\n",
              "    </tr>\n",
              "    <tr>\n",
              "      <th>1</th>\n",
              "      <td>4.9</td>\n",
              "      <td>3.0</td>\n",
              "      <td>1.4</td>\n",
              "      <td>0.2</td>\n",
              "      <td>setosa</td>\n",
              "    </tr>\n",
              "    <tr>\n",
              "      <th>2</th>\n",
              "      <td>4.7</td>\n",
              "      <td>3.2</td>\n",
              "      <td>1.3</td>\n",
              "      <td>0.2</td>\n",
              "      <td>setosa</td>\n",
              "    </tr>\n",
              "    <tr>\n",
              "      <th>3</th>\n",
              "      <td>4.6</td>\n",
              "      <td>3.1</td>\n",
              "      <td>1.5</td>\n",
              "      <td>0.2</td>\n",
              "      <td>setosa</td>\n",
              "    </tr>\n",
              "    <tr>\n",
              "      <th>4</th>\n",
              "      <td>5.0</td>\n",
              "      <td>3.6</td>\n",
              "      <td>1.4</td>\n",
              "      <td>0.2</td>\n",
              "      <td>setosa</td>\n",
              "    </tr>\n",
              "  </tbody>\n",
              "</table>\n",
              "</div>"
            ],
            "text/plain": [
              "   sepal_length  sepal_width  petal_length  petal_width species\n",
              "0           5.1          3.5           1.4          0.2  setosa\n",
              "1           4.9          3.0           1.4          0.2  setosa\n",
              "2           4.7          3.2           1.3          0.2  setosa\n",
              "3           4.6          3.1           1.5          0.2  setosa\n",
              "4           5.0          3.6           1.4          0.2  setosa"
            ]
          },
          "metadata": {
            "tags": []
          },
          "execution_count": 5
        }
      ]
    },
    {
      "cell_type": "code",
      "metadata": {
        "id": "a2gGf8SE6jpS"
      },
      "source": [
        "features = list(df.columns)\n",
        "target = features.pop()\n",
        "\n",
        "X = df[features].copy()\n",
        "y = df[target].copy()"
      ],
      "execution_count": null,
      "outputs": []
    },
    {
      "cell_type": "code",
      "metadata": {
        "id": "vIAiR5_H7Dt1"
      },
      "source": [
        "X_train, X_test, y_train, y_test = train_test_split(X , y, test_size = 0.2, random_state = 4)"
      ],
      "execution_count": null,
      "outputs": []
    },
    {
      "cell_type": "code",
      "metadata": {
        "colab": {
          "base_uri": "https://localhost:8080/"
        },
        "id": "FBEoSjGL-Z75",
        "outputId": "c6b1dd23-a61d-49ac-ac10-558c521ff85e"
      },
      "source": [
        "clf = DecisionTreeClassifier(\n",
        "    max_depth=3,\n",
        "    criterion='entropy',\n",
        "    random_state=4)\n",
        "\n",
        "clf.fit(X_train, y_train)"
      ],
      "execution_count": null,
      "outputs": [
        {
          "output_type": "execute_result",
          "data": {
            "text/plain": [
              "DecisionTreeClassifier(ccp_alpha=0.0, class_weight=None, criterion='entropy',\n",
              "                       max_depth=3, max_features=None, max_leaf_nodes=None,\n",
              "                       min_impurity_decrease=0.0, min_impurity_split=None,\n",
              "                       min_samples_leaf=1, min_samples_split=2,\n",
              "                       min_weight_fraction_leaf=0.0, presort='deprecated',\n",
              "                       random_state=4, splitter='best')"
            ]
          },
          "metadata": {
            "tags": []
          },
          "execution_count": 18
        }
      ]
    },
    {
      "cell_type": "code",
      "metadata": {
        "colab": {
          "base_uri": "https://localhost:8080/"
        },
        "id": "wlM1PCLP-gE6",
        "outputId": "bfef76b5-c087-4ee7-91b4-2b8acca2cc63"
      },
      "source": [
        "accuracy_score(clf.predict(X_test), y_test)"
      ],
      "execution_count": null,
      "outputs": [
        {
          "output_type": "execute_result",
          "data": {
            "text/plain": [
              "0.9666666666666667"
            ]
          },
          "metadata": {
            "tags": []
          },
          "execution_count": 21
        }
      ]
    },
    {
      "cell_type": "code",
      "metadata": {
        "colab": {
          "base_uri": "https://localhost:8080/",
          "height": 392
        },
        "id": "PR4KGlWt-rg5",
        "outputId": "7930847b-9799-40cf-b605-4fc665cf2da1"
      },
      "source": [
        "def plot_tree_classifier(clf, feature_names=None):\n",
        "    dot_data = export_graphviz(\n",
        "        clf,\n",
        "        out_file=None,\n",
        "        feature_names=feature_names,\n",
        "        filled=True,\n",
        "        rounded=True,\n",
        "        special_characters=True,\n",
        "        rotate=True)\n",
        "\n",
        "    return Image(graphviz.Source(dot_data).pipe(format='png'))\n",
        "\n",
        "display(plot_tree_classifier(clf, feature_names=features))"
      ],
      "execution_count": null,
      "outputs": [
        {
          "output_type": "display_data",
          "data": {
            "image/png": "[encoded data removed]",
            "text/plain": [
              "<IPython.core.display.Image object>"
            ]
          },
          "metadata": {
            "tags": []
          }
        }
      ]
    },
    {
      "cell_type": "markdown",
      "metadata": {
        "id": "Pg1fwfOKN06U"
      },
      "source": [
        "**Deep Learning Model**"
      ]
    },
    {
      "cell_type": "code",
      "metadata": {
        "id": "Gy2D3i9LN4hi"
      },
      "source": [
        "import warnings\n",
        "warnings.filterwarnings('ignore')\n",
        "\n",
        "import numpy as np\n",
        "import pandas as pd\n",
        "import pickle\n",
        "import datetime\n",
        "from datetime import date         \n",
        "import pandas_datareader as pdr\n",
        "\n",
        "from tqdm import tqdm\n",
        "from keras.models import Sequential\n",
        "from keras.layers import Dense\n",
        "from keras.layers import LSTM\n",
        "from keras.layers import Dropout\n",
        "from sklearn.preprocessing import MinMaxScaler\n",
        "import matplotlib.pyplot as plt"
      ],
      "execution_count": 1,
      "outputs": []
    },
    {
      "cell_type": "code",
      "metadata": {
        "id": "I9Yjo8ySN_oT"
      },
      "source": [
        "yesterday = datetime.datetime.strftime(datetime.datetime.now()-datetime.timedelta(1),'%Y-%m-%d')\n",
        "yesterday = pd.to_datetime(yesterday)\n",
        "six = datetime.datetime.strftime(datetime.datetime.now()-datetime.timedelta(6*365),'%Y-%m-%d')\n",
        "six = pd.to_datetime(six)"
      ],
      "execution_count": 2,
      "outputs": []
    },
    {
      "cell_type": "code",
      "metadata": {
        "colab": {
          "base_uri": "https://localhost:8080/",
          "height": 446
        },
        "id": "CKBQUgStN7JC",
        "outputId": "e1cf21a3-df56-4f1c-dbf3-00229007c899"
      },
      "source": [
        "aapl = pdr.DataReader('AAPL', 'yahoo', six, yesterday)\n",
        "aapl "
      ],
      "execution_count": 3,
      "outputs": [
        {
          "output_type": "execute_result",
          "data": {
            "text/html": [
              "<div>\n",
              "<style scoped>\n",
              "    .dataframe tbody tr th:only-of-type {\n",
              "        vertical-align: middle;\n",
              "    }\n",
              "\n",
              "    .dataframe tbody tr th {\n",
              "        vertical-align: top;\n",
              "    }\n",
              "\n",
              "    .dataframe thead th {\n",
              "        text-align: right;\n",
              "    }\n",
              "</style>\n",
              "<table border=\"1\" class=\"dataframe\">\n",
              "  <thead>\n",
              "    <tr style=\"text-align: right;\">\n",
              "      <th></th>\n",
              "      <th>High</th>\n",
              "      <th>Low</th>\n",
              "      <th>Open</th>\n",
              "      <th>Close</th>\n",
              "      <th>Volume</th>\n",
              "      <th>Adj Close</th>\n",
              "    </tr>\n",
              "    <tr>\n",
              "      <th>Date</th>\n",
              "      <th></th>\n",
              "      <th></th>\n",
              "      <th></th>\n",
              "      <th></th>\n",
              "      <th></th>\n",
              "      <th></th>\n",
              "    </tr>\n",
              "  </thead>\n",
              "  <tbody>\n",
              "    <tr>\n",
              "      <th>2015-06-22</th>\n",
              "      <td>32.014999</td>\n",
              "      <td>31.770000</td>\n",
              "      <td>31.872499</td>\n",
              "      <td>31.902500</td>\n",
              "      <td>136157200.0</td>\n",
              "      <td>29.204836</td>\n",
              "    </tr>\n",
              "    <tr>\n",
              "      <th>2015-06-23</th>\n",
              "      <td>31.902500</td>\n",
              "      <td>31.719999</td>\n",
              "      <td>31.870001</td>\n",
              "      <td>31.757500</td>\n",
              "      <td>121075600.0</td>\n",
              "      <td>29.072098</td>\n",
              "    </tr>\n",
              "    <tr>\n",
              "      <th>2015-06-24</th>\n",
              "      <td>32.450001</td>\n",
              "      <td>31.780001</td>\n",
              "      <td>31.802500</td>\n",
              "      <td>32.027500</td>\n",
              "      <td>221123600.0</td>\n",
              "      <td>29.319269</td>\n",
              "    </tr>\n",
              "    <tr>\n",
              "      <th>2015-06-25</th>\n",
              "      <td>32.299999</td>\n",
              "      <td>31.875000</td>\n",
              "      <td>32.215000</td>\n",
              "      <td>31.875000</td>\n",
              "      <td>127752400.0</td>\n",
              "      <td>29.179665</td>\n",
              "    </tr>\n",
              "    <tr>\n",
              "      <th>2015-06-26</th>\n",
              "      <td>31.997499</td>\n",
              "      <td>31.627501</td>\n",
              "      <td>31.917500</td>\n",
              "      <td>31.687500</td>\n",
              "      <td>176267200.0</td>\n",
              "      <td>29.008015</td>\n",
              "    </tr>\n",
              "    <tr>\n",
              "      <th>...</th>\n",
              "      <td>...</td>\n",
              "      <td>...</td>\n",
              "      <td>...</td>\n",
              "      <td>...</td>\n",
              "      <td>...</td>\n",
              "      <td>...</td>\n",
              "    </tr>\n",
              "    <tr>\n",
              "      <th>2021-06-11</th>\n",
              "      <td>127.440002</td>\n",
              "      <td>126.099998</td>\n",
              "      <td>126.529999</td>\n",
              "      <td>127.349998</td>\n",
              "      <td>53415300.0</td>\n",
              "      <td>127.349998</td>\n",
              "    </tr>\n",
              "    <tr>\n",
              "      <th>2021-06-14</th>\n",
              "      <td>130.539993</td>\n",
              "      <td>127.070000</td>\n",
              "      <td>127.820000</td>\n",
              "      <td>130.479996</td>\n",
              "      <td>96906500.0</td>\n",
              "      <td>130.479996</td>\n",
              "    </tr>\n",
              "    <tr>\n",
              "      <th>2021-06-15</th>\n",
              "      <td>130.600006</td>\n",
              "      <td>129.389999</td>\n",
              "      <td>129.940002</td>\n",
              "      <td>129.639999</td>\n",
              "      <td>62746300.0</td>\n",
              "      <td>129.639999</td>\n",
              "    </tr>\n",
              "    <tr>\n",
              "      <th>2021-06-16</th>\n",
              "      <td>130.889999</td>\n",
              "      <td>128.460007</td>\n",
              "      <td>130.369995</td>\n",
              "      <td>130.149994</td>\n",
              "      <td>91657900.0</td>\n",
              "      <td>130.149994</td>\n",
              "    </tr>\n",
              "    <tr>\n",
              "      <th>2021-06-17</th>\n",
              "      <td>132.550003</td>\n",
              "      <td>129.649994</td>\n",
              "      <td>129.800003</td>\n",
              "      <td>131.789993</td>\n",
              "      <td>96230975.0</td>\n",
              "      <td>131.789993</td>\n",
              "    </tr>\n",
              "  </tbody>\n",
              "</table>\n",
              "<p>1509 rows × 6 columns</p>\n",
              "</div>"
            ],
            "text/plain": [
              "                  High         Low  ...       Volume   Adj Close\n",
              "Date                                ...                         \n",
              "2015-06-22   32.014999   31.770000  ...  136157200.0   29.204836\n",
              "2015-06-23   31.902500   31.719999  ...  121075600.0   29.072098\n",
              "2015-06-24   32.450001   31.780001  ...  221123600.0   29.319269\n",
              "2015-06-25   32.299999   31.875000  ...  127752400.0   29.179665\n",
              "2015-06-26   31.997499   31.627501  ...  176267200.0   29.008015\n",
              "...                ...         ...  ...          ...         ...\n",
              "2021-06-11  127.440002  126.099998  ...   53415300.0  127.349998\n",
              "2021-06-14  130.539993  127.070000  ...   96906500.0  130.479996\n",
              "2021-06-15  130.600006  129.389999  ...   62746300.0  129.639999\n",
              "2021-06-16  130.889999  128.460007  ...   91657900.0  130.149994\n",
              "2021-06-17  132.550003  129.649994  ...   96230975.0  131.789993\n",
              "\n",
              "[1509 rows x 6 columns]"
            ]
          },
          "metadata": {
            "tags": []
          },
          "execution_count": 3
        }
      ]
    },
    {
      "cell_type": "code",
      "metadata": {
        "id": "UhW1vhLRadEl"
      },
      "source": [
        "split_num = round(len(aapl)*0.8)\n",
        "x_train_set, y_train_set  = aapl.iloc[:split_num]['Open'].values, aapl.iloc[:split_num]['Close'].values"
      ],
      "execution_count": 4,
      "outputs": []
    },
    {
      "cell_type": "code",
      "metadata": {
        "colab": {
          "base_uri": "https://localhost:8080/"
        },
        "id": "689qE9zgap3v",
        "outputId": "0854440a-7725-451a-aa0b-a117240d87f9"
      },
      "source": [
        "x_train_set = x_train_set.reshape(-1,1)\n",
        "x_train_set"
      ],
      "execution_count": 5,
      "outputs": [
        {
          "output_type": "execute_result",
          "data": {
            "text/plain": [
              "array([[31.87249947],\n",
              "       [31.87000084],\n",
              "       [31.80249977],\n",
              "       ...,\n",
              "       [60.08499908],\n",
              "       [60.70000076],\n",
              "       [62.72499847]])"
            ]
          },
          "metadata": {
            "tags": []
          },
          "execution_count": 5
        }
      ]
    },
    {
      "cell_type": "code",
      "metadata": {
        "colab": {
          "base_uri": "https://localhost:8080/"
        },
        "id": "vhM0qdB3lqOJ",
        "outputId": "7d654be5-b491-4058-9efa-1837a8da7bf0"
      },
      "source": [
        "y_train_set = y_train_set.reshape(-1,1)\n",
        "y_train_set"
      ],
      "execution_count": 6,
      "outputs": [
        {
          "output_type": "execute_result",
          "data": {
            "text/plain": [
              "array([[31.90250015],\n",
              "       [31.75749969],\n",
              "       [32.02750015],\n",
              "       ...,\n",
              "       [61.23249817],\n",
              "       [60.35250092],\n",
              "       [65.61750031]])"
            ]
          },
          "metadata": {
            "tags": []
          },
          "execution_count": 6
        }
      ]
    },
    {
      "cell_type": "code",
      "metadata": {
        "id": "SLR86JpjmtCl"
      },
      "source": [
        "def func(x_train_set,y_train_set):\n",
        "\n",
        "    # Feature Scaling\n",
        "    sc = MinMaxScaler(feature_range = (0, 1))\n",
        "    x_train_scaled = sc.fit_transform(x_train_set)\n",
        "    y_train_scaled = sc.fit_transform(y_train_set)\n",
        "\n",
        "    # Creating a data structure with 60 time-steps and 1 output\n",
        "    X_train = []\n",
        "    y_train = []\n",
        "\n",
        "    ## for every 60 scaled open prices, append one output \n",
        "    ## lookback 60 days of open prices to predict one close price\n",
        "    for i in range(60, split_num):\n",
        "        X_train.append(x_train_scaled[i-60:i, 0])\n",
        "        y_train.append(y_train_scaled[i, 0])\n",
        "\n",
        "    X_train, y_train = np.array(X_train), np.array(y_train)\n",
        "    X_train = np.reshape(X_train, (X_train.shape[0], X_train.shape[1], 1)) \n",
        "    \n",
        "    return X_train, y_train\n",
        "\n",
        "X_train, y_train = func(x_train_set, y_train_set)"
      ],
      "execution_count": 7,
      "outputs": []
    },
    {
      "cell_type": "code",
      "metadata": {
        "colab": {
          "base_uri": "https://localhost:8080/"
        },
        "id": "vlz9U39bm77i",
        "outputId": "f1d30d8f-4f2a-4050-8215-fca3aa9f2504"
      },
      "source": [
        "print('SHAPE', X_train.shape)\n",
        "print()\n",
        "print('FINALIZED FEATURE DATA')\n",
        "print(X_train)"
      ],
      "execution_count": 8,
      "outputs": [
        {
          "output_type": "stream",
          "text": [
            "SHAPE (1147, 60, 1)\n",
            "\n",
            "FINALIZED FEATURE DATA\n",
            "[[[0.15970861]\n",
            "  [0.15966603]\n",
            "  [0.15851581]\n",
            "  ...\n",
            "  [0.09282611]\n",
            "  [0.11323167]\n",
            "  [0.11046265]]\n",
            "\n",
            " [[0.15966603]\n",
            "  [0.15851581]\n",
            "  [0.16554487]\n",
            "  ...\n",
            "  [0.11323167]\n",
            "  [0.11046265]\n",
            "  [0.11182585]]\n",
            "\n",
            " [[0.15851581]\n",
            "  [0.16554487]\n",
            "  [0.16047542]\n",
            "  ...\n",
            "  [0.11046265]\n",
            "  [0.11182585]\n",
            "  [0.10931245]]\n",
            "\n",
            " ...\n",
            "\n",
            " [[0.89392522]\n",
            "  [0.88250836]\n",
            "  [0.92544943]\n",
            "  ...\n",
            "  [0.68475766]\n",
            "  [0.70546142]\n",
            "  [0.66669509]]\n",
            "\n",
            " [[0.88250836]\n",
            "  [0.92544943]\n",
            "  [0.93976321]\n",
            "  ...\n",
            "  [0.70546142]\n",
            "  [0.66669509]\n",
            "  [0.64045328]]\n",
            "\n",
            " [[0.92544943]\n",
            "  [0.93976321]\n",
            "  [0.94419368]\n",
            "  ...\n",
            "  [0.66669509]\n",
            "  [0.64045328]\n",
            "  [0.65093299]]]\n"
          ],
          "name": "stdout"
        }
      ]
    },
    {
      "cell_type": "code",
      "metadata": {
        "id": "Vjr4CeCHn3Fc",
        "colab": {
          "base_uri": "https://localhost:8080/"
        },
        "outputId": "9631b35c-f93f-4b9d-e9c8-f55b26d408e5"
      },
      "source": [
        "print('SHAPE', y_train.shape)\n",
        "print()\n",
        "print('FINALIZED TARGET DATA')\n",
        "print(y_train)"
      ],
      "execution_count": 9,
      "outputs": [
        {
          "output_type": "stream",
          "text": [
            "SHAPE (1147,)\n",
            "\n",
            "FINALIZED TARGET DATA\n",
            "[0.11006504 0.09955248 0.09756818 ... 0.65266396 0.63780291 0.72671618]\n"
          ],
          "name": "stdout"
        }
      ]
    },
    {
      "cell_type": "code",
      "metadata": {
        "colab": {
          "base_uri": "https://localhost:8080/"
        },
        "id": "WQTOIqZmUDQK",
        "outputId": "94189f75-8116-45cf-a134-415d278949f3"
      },
      "source": [
        "def build_and_train_model(X_train, y_train, optimizer, loss, epochs):\n",
        "\n",
        "    \"\"\" \n",
        "    This function builds and trains a keras LSTM model\n",
        "\n",
        "    Parameters: \n",
        "    X_train --> training feature data \n",
        "    y_train --> training target data \n",
        "    optimizer --> string\n",
        "    loss --> string \n",
        "    epochs --> int\n",
        "\n",
        "    Returns:\n",
        "    trained keras model\n",
        "    \"\"\"\n",
        "\n",
        "    model = Sequential()\n",
        "\n",
        "    #Adding the first LSTM layer and some Dropout regularisation\n",
        "    model.add(LSTM(units = 128, return_sequences = True, input_shape = (X_train.shape[1], 1)))\n",
        "    model.add(Dropout(0.2))\n",
        "\n",
        "    # Adding a second LSTM layer and some Dropout regularisation\n",
        "    model.add(LSTM(units = 64, return_sequences = True))\n",
        "    model.add(Dropout(0.2))\n",
        "\n",
        "    # Adding a third LSTM layer and some Dropout regularisation\n",
        "    model.add(LSTM(units = 32, return_sequences = True))\n",
        "    model.add(Dropout(0.2))\n",
        "\n",
        "    # Adding a fourth LSTM layer and some Dropout regularisation\n",
        "    model.add(LSTM(units = 16))\n",
        "    model.add(Dropout(0.2))\n",
        "\n",
        "    # Adding the output layer\n",
        "    model.add(Dense(units = 1))\n",
        "\n",
        "    # Compiling the RNN\n",
        "    model.compile(optimizer = optimizer, loss = loss)\n",
        "\n",
        "    # Fitting the RNN to the Training set\n",
        "    model.fit(X_train, y_train, epochs = epochs, batch_size = 32)\n",
        "\n",
        "    return model\n",
        "\n",
        "model = build_and_train_model(X_train, y_train, optimizer='adam', loss='mean_squared_error', epochs=25)"
      ],
      "execution_count": 12,
      "outputs": [
        {
          "output_type": "stream",
          "text": [
            "Epoch 1/25\n",
            "36/36 [==============================] - 14s 163ms/step - loss: 0.0432\n",
            "Epoch 2/25\n",
            "36/36 [==============================] - 6s 160ms/step - loss: 0.0069\n",
            "Epoch 3/25\n",
            "36/36 [==============================] - 6s 163ms/step - loss: 0.0065\n",
            "Epoch 4/25\n",
            "36/36 [==============================] - 6s 162ms/step - loss: 0.0058\n",
            "Epoch 5/25\n",
            "36/36 [==============================] - 6s 164ms/step - loss: 0.0046\n",
            "Epoch 6/25\n",
            "36/36 [==============================] - 6s 160ms/step - loss: 0.0047\n",
            "Epoch 7/25\n",
            "36/36 [==============================] - 6s 158ms/step - loss: 0.0044\n",
            "Epoch 8/25\n",
            "36/36 [==============================] - 6s 156ms/step - loss: 0.0045\n",
            "Epoch 9/25\n",
            "36/36 [==============================] - 6s 161ms/step - loss: 0.0053\n",
            "Epoch 10/25\n",
            "36/36 [==============================] - 6s 158ms/step - loss: 0.0035\n",
            "Epoch 11/25\n",
            "36/36 [==============================] - 6s 156ms/step - loss: 0.0046\n",
            "Epoch 12/25\n",
            "36/36 [==============================] - 6s 160ms/step - loss: 0.0039\n",
            "Epoch 13/25\n",
            "36/36 [==============================] - 6s 159ms/step - loss: 0.0045\n",
            "Epoch 14/25\n",
            "36/36 [==============================] - 6s 160ms/step - loss: 0.0036\n",
            "Epoch 15/25\n",
            "36/36 [==============================] - 6s 161ms/step - loss: 0.0033\n",
            "Epoch 16/25\n",
            "36/36 [==============================] - 6s 159ms/step - loss: 0.0036\n",
            "Epoch 17/25\n",
            "36/36 [==============================] - 6s 159ms/step - loss: 0.0029\n",
            "Epoch 18/25\n",
            "36/36 [==============================] - 6s 159ms/step - loss: 0.0031\n",
            "Epoch 19/25\n",
            "36/36 [==============================] - 6s 159ms/step - loss: 0.0033\n",
            "Epoch 20/25\n",
            "36/36 [==============================] - 6s 161ms/step - loss: 0.0026\n",
            "Epoch 21/25\n",
            "36/36 [==============================] - 6s 160ms/step - loss: 0.0029\n",
            "Epoch 22/25\n",
            "36/36 [==============================] - 6s 158ms/step - loss: 0.0025\n",
            "Epoch 23/25\n",
            "36/36 [==============================] - 6s 161ms/step - loss: 0.0028\n",
            "Epoch 24/25\n",
            "36/36 [==============================] - 6s 159ms/step - loss: 0.0028\n",
            "Epoch 25/25\n",
            "36/36 [==============================] - 6s 158ms/step - loss: 0.0027\n"
          ],
          "name": "stdout"
        }
      ]
    },
    {
      "cell_type": "code",
      "metadata": {
        "id": "SXOltWFIVY7c",
        "colab": {
          "base_uri": "https://localhost:8080/"
        },
        "outputId": "9df68bdc-6d1f-4a96-92e7-52cecb8d79c3"
      },
      "source": [
        "model.summary()"
      ],
      "execution_count": 13,
      "outputs": [
        {
          "output_type": "stream",
          "text": [
            "Model: \"sequential_1\"\n",
            "_________________________________________________________________\n",
            "Layer (type)                 Output Shape              Param #   \n",
            "=================================================================\n",
            "lstm_4 (LSTM)                (None, 60, 128)           66560     \n",
            "_________________________________________________________________\n",
            "dropout_4 (Dropout)          (None, 60, 128)           0         \n",
            "_________________________________________________________________\n",
            "lstm_5 (LSTM)                (None, 60, 64)            49408     \n",
            "_________________________________________________________________\n",
            "dropout_5 (Dropout)          (None, 60, 64)            0         \n",
            "_________________________________________________________________\n",
            "lstm_6 (LSTM)                (None, 60, 32)            12416     \n",
            "_________________________________________________________________\n",
            "dropout_6 (Dropout)          (None, 60, 32)            0         \n",
            "_________________________________________________________________\n",
            "lstm_7 (LSTM)                (None, 16)                3136      \n",
            "_________________________________________________________________\n",
            "dropout_7 (Dropout)          (None, 16)                0         \n",
            "_________________________________________________________________\n",
            "dense_1 (Dense)              (None, 1)                 17        \n",
            "=================================================================\n",
            "Total params: 131,537\n",
            "Trainable params: 131,537\n",
            "Non-trainable params: 0\n",
            "_________________________________________________________________\n"
          ],
          "name": "stdout"
        }
      ]
    },
    {
      "cell_type": "code",
      "metadata": {
        "colab": {
          "base_uri": "https://localhost:8080/"
        },
        "id": "Psb5ugYRTwyk",
        "outputId": "1e02dc50-35b3-43d6-b877-4fcfb4f35f3c"
      },
      "source": [
        "most_recent_60 = aapl.iloc[len(aapl)-60:]['Open'].values\n",
        "most_recent_60 = np.array(most_recent_60)\n",
        "most_recent_60 = most_recent_60.reshape(-1,1)\n",
        "\n",
        "# Feature Scaling\n",
        "sc = MinMaxScaler(feature_range = (0, 1))\n",
        "most_recent_60_scaled = sc.fit_transform(most_recent_60)\n",
        "most_recent_60_scaled = np.reshape(most_recent_60_scaled, (most_recent_60_scaled.shape[1], most_recent_60_scaled.shape[0], 1))\n",
        "\n",
        "preds = model.predict(most_recent_60_scaled)\n",
        "preds_ = sc.inverse_transform(preds)\n",
        "\n",
        "print('PREDICTED AAPL CLOSE PRICE FOR 06/17/2021', preds_)\n",
        "print('ACTUAL AAPL CLOSE PRICE FOR 06/17/2021', most_recent_60[-1])"
      ],
      "execution_count": 14,
      "outputs": [
        {
          "output_type": "stream",
          "text": [
            "PREDICTED AAPL CLOSE PRICE FOR 06/17/2021 [[126.6813]]\n",
            "ACTUAL AAPL CLOSE PRICE FOR 06/17/2021 [129.80000305]\n"
          ],
          "name": "stdout"
        }
      ]
    }
  ]
}